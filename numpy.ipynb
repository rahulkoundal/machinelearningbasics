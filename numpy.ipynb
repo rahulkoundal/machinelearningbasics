{
 "cells": [
  {
   "cell_type": "code",
   "execution_count": 1,
   "metadata": {},
   "outputs": [],
   "source": [
    "import numpy as np"
   ]
  },
  {
   "cell_type": "code",
   "execution_count": 3,
   "metadata": {},
   "outputs": [],
   "source": [
    "# Set seed for reproducibility\n",
    "np.random.seed(seed=2)"
   ]
  },
  {
   "cell_type": "code",
   "execution_count": 7,
   "metadata": {},
   "outputs": [
    {
     "name": "stdout",
     "output_type": "stream",
     "text": [
      "138\n",
      "583\n",
      "868\n",
      "822\n",
      "783\n"
     ]
    }
   ],
   "source": [
    "import random  \n",
    "random.seed(1)\n",
    "for i in range(5):\n",
    "    print(random.randint(1, 1000))\n",
    "    "
   ]
  },
  {
   "cell_type": "markdown",
   "metadata": {},
   "source": [
    "# Tensor = collection of the values \n",
    "scalar(0D tensor) -- 3\n",
    "vector (1D tesnor)----[1,2,3] [1\n",
    "                               2\n",
    "                               3]\n",
    "matrix (2D tensor)--- [1 2\n",
    "                        3 4]\n",
    "\n",
    "3D Tensor\n"
   ]
  },
  {
   "cell_type": "code",
   "execution_count": 2,
   "metadata": {},
   "outputs": [
    {
     "data": {
      "text/plain": [
       "array(2)"
      ]
     },
     "execution_count": 2,
     "metadata": {},
     "output_type": "execute_result"
    }
   ],
   "source": [
    "# scalar tesnor\n",
    "\n",
    "a = np.array(2)\n",
    "a"
   ]
  },
  {
   "cell_type": "code",
   "execution_count": 5,
   "metadata": {},
   "outputs": [
    {
     "name": "stdout",
     "output_type": "stream",
     "text": [
      "num of the dimensios 0\n",
      "shape of the  ()\n",
      "size 1\n",
      "datatype int64\n",
      "item size 8\n",
      "type of a  <class 'numpy.ndarray'>\n"
     ]
    }
   ],
   "source": [
    "#num of demesions \n",
    "print('num of the dimensios', a.ndim)\n",
    "print('shape of the ',a.shape)\n",
    "print('size',a.size)\n",
    "print('datatype', a.dtype)\n",
    "print('item size',a.itemsize)\n",
    "print('type of a ',type(a))"
   ]
  },
  {
   "cell_type": "code",
   "execution_count": 10,
   "metadata": {},
   "outputs": [
    {
     "name": "stdout",
     "output_type": "stream",
     "text": [
      "num of the dimensios 1\n",
      "shape of the  (4,)\n",
      "size 4\n",
      "datatype int64\n",
      "item size 8\n",
      "type of a  <class 'numpy.ndarray'>\n"
     ]
    }
   ],
   "source": [
    "#1-d tensor vector \n",
    "b = np.array([1,2,3,4])\n",
    "print('num of the dimensios', b.ndim)\n",
    "print('shape of the ',b.shape)\n",
    "print('size',b.size)\n",
    "print('datatype', b.dtype)\n",
    "print('item size',b.itemsize)\n",
    "print('type of a ',type(b))"
   ]
  },
  {
   "cell_type": "code",
   "execution_count": 14,
   "metadata": {},
   "outputs": [
    {
     "name": "stdout",
     "output_type": "stream",
     "text": [
      "num of the dimensios 2\n",
      "shape of the  (2, 3)\n",
      "size 6\n",
      "datatype int64\n",
      "item size 8\n",
      "type of a  <class 'numpy.ndarray'>\n"
     ]
    }
   ],
   "source": [
    "#2-d tensor\n",
    "matrix\n",
    "c = np.array([[1,2,6],[3,4,6]])\n",
    "print('num of the dimensios', c.ndim)\n",
    "print('shape of the ',c.shape)\n",
    "print('size',c.size)\n",
    "print('datatype', c.dtype)\n",
    "print('item size',c.itemsize)\n",
    "print('type of a ',type(c))"
   ]
  },
  {
   "cell_type": "code",
   "execution_count": 15,
   "metadata": {},
   "outputs": [
    {
     "name": "stdout",
     "output_type": "stream",
     "text": [
      "num of the dimensios 3\n",
      "shape of the  (2, 2, 3)\n",
      "size 12\n",
      "datatype int64\n",
      "item size 8\n",
      "type of a  <class 'numpy.ndarray'>\n"
     ]
    }
   ],
   "source": [
    "#3-d tensor\n",
    "#array has 2 rows and 3 columns \n",
    "d = np.array([[[1,2,6],[3,4,6]],[[1,2,3],[122,33,44]]])\n",
    "print('num of the dimensios', d.ndim)\n",
    "print('shape of the ',d.shape)\n",
    "print('size',d.size)\n",
    "print('datatype', d.dtype)\n",
    "print('item size',d.itemsize)\n",
    "print('type of a ',type(d))"
   ]
  },
  {
   "cell_type": "code",
   "execution_count": 17,
   "metadata": {},
   "outputs": [
    {
     "data": {
      "text/plain": [
       "1"
      ]
     },
     "execution_count": 17,
     "metadata": {},
     "output_type": "execute_result"
    }
   ],
   "source": [
    "c[0][0]"
   ]
  },
  {
   "cell_type": "code",
   "execution_count": 18,
   "metadata": {},
   "outputs": [
    {
     "data": {
      "text/plain": [
       "array([[1, 2, 6],\n",
       "       [3, 4, 6]])"
      ]
     },
     "execution_count": 18,
     "metadata": {},
     "output_type": "execute_result"
    }
   ],
   "source": [
    "c"
   ]
  },
  {
   "cell_type": "code",
   "execution_count": 19,
   "metadata": {},
   "outputs": [
    {
     "data": {
      "text/plain": [
       "array(2)"
      ]
     },
     "execution_count": 19,
     "metadata": {},
     "output_type": "execute_result"
    }
   ],
   "source": [
    "a"
   ]
  },
  {
   "cell_type": "code",
   "execution_count": 20,
   "metadata": {},
   "outputs": [
    {
     "data": {
      "text/plain": [
       "array([1, 2, 3, 4])"
      ]
     },
     "execution_count": 20,
     "metadata": {},
     "output_type": "execute_result"
    }
   ],
   "source": [
    "b"
   ]
  },
  {
   "cell_type": "code",
   "execution_count": 21,
   "metadata": {},
   "outputs": [
    {
     "data": {
      "text/plain": [
       "array([[[  1,   2,   6],\n",
       "        [  3,   4,   6]],\n",
       "\n",
       "       [[  1,   2,   3],\n",
       "        [122,  33,  44]]])"
      ]
     },
     "execution_count": 21,
     "metadata": {},
     "output_type": "execute_result"
    }
   ],
   "source": [
    "d"
   ]
  },
  {
   "cell_type": "code",
   "execution_count": 31,
   "metadata": {},
   "outputs": [
    {
     "name": "stdout",
     "output_type": "stream",
     "text": [
      "zero functions :\n",
      " [0. 0.]\n",
      "zero functions :\n",
      " [0. 0. 0.]\n",
      "zero functions :\n",
      " [[0. 0. 0.]]\n",
      "zero functions :\n",
      " [[0. 0. 0.]\n",
      " [0. 0. 0.]]\n",
      "zero functions :\n",
      " [[0. 0. 0.]\n",
      " [0. 0. 0.]\n",
      " [0. 0. 0.]\n",
      " [0. 0. 0.]\n",
      " [0. 0. 0.]]\n"
     ]
    }
   ],
   "source": [
    "#functions for creationg the tesnor\n",
    "\n",
    "\n",
    "# Functions\n",
    "print (\"zero functions :\\n\", np.zeros(2))\n",
    "print (\"zero functions :\\n\", np.zeros(3))    # 3 tell us about the number of coulumn in the matrix\n",
    "print (\"zero functions :\\n\", np.zeros((1,3)))\n",
    "print (\"zero functions :\\n\", np.zeros((2,3)))\n",
    "print (\"zero functions :\\n\", np.zeros((5,3)))\n",
    "\n",
    "\n",
    "\n"
   ]
  },
  {
   "cell_type": "code",
   "execution_count": 35,
   "metadata": {},
   "outputs": [
    {
     "name": "stdout",
     "output_type": "stream",
     "text": [
      "zero functions :\n",
      " [1. 1.]\n",
      "zero functions :\n",
      " [1. 1. 1.]\n",
      "zero functions :\n",
      " [[1. 1. 1.]]\n",
      "zero functions :\n",
      " [[1. 1. 1.]\n",
      " [1. 1. 1.]]\n",
      "zero functions :\n",
      " [[1. 1. 1.]\n",
      " [1. 1. 1.]\n",
      " [1. 1. 1.]\n",
      " [1. 1. 1.]\n",
      " [1. 1. 1.]]\n",
      "1\n",
      "2\n"
     ]
    }
   ],
   "source": [
    "#functions for creationg the tesnor\n",
    "\n",
    "\n",
    "#functions for creationg the tesnor\n",
    "\n",
    "\n",
    "# Functions\n",
    "print (\"zero functions :\\n\", np.ones(2))\n",
    "print (\"zero functions :\\n\", np.ones(3))    # 3 tell us about the number of coulumn in the matrix\n",
    "print (\"zero functions :\\n\", np.ones((1,3)))\n",
    "print (\"zero functions :\\n\", np.ones((2,3)))\n",
    "print (\"zero functions :\\n\",np.ones((5,3)))\n",
    "\n",
    "\n",
    "array_A =  np.ones(2)\n",
    "array_b = np.ones((1,3))\n",
    "print(array_A.ndim)\n",
    "print(array_b.ndim)"
   ]
  },
  {
   "cell_type": "code",
   "execution_count": 36,
   "metadata": {},
   "outputs": [
    {
     "name": "stdout",
     "output_type": "stream",
     "text": [
      "eye functionsfunctions  [[1. 0.]\n",
      " [0. 1.]]\n",
      "np.random.random functrions [[0.84883287 0.43832955]\n",
      " [0.00218404 0.36700507]]\n"
     ]
    }
   ],
   "source": [
    "print (\"eye functionsfunctions \", np.eye((2))) # identity matrix \n",
    "print (\"np.random.random functrions\", np.random.random((2,2)))"
   ]
  },
  {
   "cell_type": "code",
   "execution_count": 37,
   "metadata": {},
   "outputs": [],
   "source": [
    "index_A = np.array([[1,2,3,4],[5,6,7,8],[9,10,11,12]])"
   ]
  },
  {
   "cell_type": "code",
   "execution_count": 39,
   "metadata": {},
   "outputs": [
    {
     "data": {
      "text/plain": [
       "array([[ 1,  2,  3,  4],\n",
       "       [ 5,  6,  7,  8],\n",
       "       [ 9, 10, 11, 12]])"
      ]
     },
     "execution_count": 39,
     "metadata": {},
     "output_type": "execute_result"
    }
   ],
   "source": [
    "index_A"
   ]
  },
  {
   "cell_type": "code",
   "execution_count": 40,
   "metadata": {},
   "outputs": [
    {
     "data": {
      "text/plain": [
       "array([[2, 3],\n",
       "       [6, 7]])"
      ]
     },
     "execution_count": 40,
     "metadata": {},
     "output_type": "execute_result"
    }
   ],
   "source": [
    "index_A[0:2,1:3]"
   ]
  },
  {
   "cell_type": "code",
   "execution_count": 41,
   "metadata": {},
   "outputs": [
    {
     "data": {
      "text/plain": [
       "array([[1, 2, 3, 4],\n",
       "       [5, 6, 7, 8]])"
      ]
     },
     "execution_count": 41,
     "metadata": {},
     "output_type": "execute_result"
    }
   ],
   "source": [
    "index_A[0:2]"
   ]
  },
  {
   "cell_type": "code",
   "execution_count": 42,
   "metadata": {},
   "outputs": [
    {
     "data": {
      "text/plain": [
       "array([[ 2,  3],\n",
       "       [ 6,  7],\n",
       "       [10, 11]])"
      ]
     },
     "execution_count": 42,
     "metadata": {},
     "output_type": "execute_result"
    }
   ],
   "source": [
    "index_A[:,1:3]"
   ]
  },
  {
   "cell_type": "code",
   "execution_count": 43,
   "metadata": {},
   "outputs": [
    {
     "name": "stdout",
     "output_type": "stream",
     "text": [
      "[[ 1  2  3  4]\n",
      " [ 5  6  7  8]\n",
      " [ 9 10 11 12]]\n",
      "rows_to_get:  [0 1 2]\n",
      "cols_to_get:  [0 2 1]\n",
      "indexed values:  [ 1  7 10]\n"
     ]
    }
   ],
   "source": [
    "# Integer array indexing\n",
    "print (index_A)\n",
    "rows_to_get = np.array([0, 1, 2])\n",
    "print (\"rows_to_get: \", rows_to_get)\n",
    "cols_to_get = np.array([0, 2, 1])\n",
    "print (\"cols_to_get: \", cols_to_get)\n",
    "# Combine sequences above to get values to get\n",
    "print (\"indexed values: \", index_A[rows_to_get, cols_to_get]) # (0, 0), (1, 2), (2, 1)"
   ]
  },
  {
   "cell_type": "code",
   "execution_count": 45,
   "metadata": {},
   "outputs": [
    {
     "name": "stdout",
     "output_type": "stream",
     "text": [
      "x:\n",
      " [[ 1  8]\n",
      " [ 3 14]\n",
      " [ 5  6]]\n",
      "x > 5:\n",
      " [[False  True]\n",
      " [False  True]\n",
      " [False  True]]\n",
      "x[x > 5]:\n",
      " [ 8 14  6]\n"
     ]
    }
   ],
   "source": [
    "\n",
    "\n",
    "# Boolean array indexing\n",
    "x = np.array([[1, 8], [3, 14], [5, 6]])\n",
    "print (\"x:\\n\", x)\n",
    "print (\"x > 5:\\n\", x > 5)\n",
    "print (\"x[x > 5]:\\n\", x[x > 5])\n",
    "\n"
   ]
  },
  {
   "cell_type": "markdown",
   "metadata": {},
   "source": [
    "# Arithmatic operation"
   ]
  },
  {
   "cell_type": "code",
   "execution_count": 47,
   "metadata": {},
   "outputs": [
    {
     "name": "stdout",
     "output_type": "stream",
     "text": [
      "x + y:\n",
      " [[13. 24.]\n",
      " [26. 28.]]\n",
      "x - y:\n",
      " [[-11. -20.]\n",
      " [-20. -20.]]\n",
      "x * y:\n",
      " [[12. 44.]\n",
      " [69. 96.]]\n"
     ]
    }
   ],
   "source": [
    "\n",
    "\n",
    "# Basic math\n",
    "x = np.array([[1,2], [3,4]], dtype=np.float64)\n",
    "y = np.array([[12,22], [23,24]], dtype=np.float64)\n",
    "print (\"x + y:\\n\", np.add(x, y)) # or x + y\n",
    "print (\"x - y:\\n\", np.subtract(x, y)) # or x - y\n",
    "print (\"x * y:\\n\", np.multiply(x, y)) # or x * y\n",
    "\n"
   ]
  },
  {
   "cell_type": "code",
   "execution_count": 50,
   "metadata": {},
   "outputs": [
    {
     "name": "stdout",
     "output_type": "stream",
     "text": [
      "(2, 3) · (3, 2) = (2, 2)\n",
      "[[ 68.  98.]\n",
      " [179. 224.]]\n"
     ]
    }
   ],
   "source": [
    "# Dot product\n",
    "a = np.array([[1,2,3], [4,5,6]], dtype=np.float64) # we can specify dtype\n",
    "b = np.array([[17,8], [9,12], [11, 22]], dtype=np.float64)\n",
    "c = a.dot(b)\n",
    "print (f\"{a.shape} · {b.shape} = {c.shape}\")\n",
    "print (c)"
   ]
  },
  {
   "cell_type": "markdown",
   "metadata": {},
   "source": [
    "# Axis operations : we can also perform operation through axis\n",
    "    \n",
    "    "
   ]
  },
  {
   "cell_type": "code",
   "execution_count": 53,
   "metadata": {},
   "outputs": [
    {
     "name": "stdout",
     "output_type": "stream",
     "text": [
      "sum of all element matrix 3\n"
     ]
    }
   ],
   "source": [
    "axis_operations = np.array([1,2])\n",
    "print('sum of all element matrix',np.sum(axis_operations))\n"
   ]
  },
  {
   "cell_type": "code",
   "execution_count": 61,
   "metadata": {},
   "outputs": [
    {
     "name": "stdout",
     "output_type": "stream",
     "text": [
      "[[0 1]\n",
      " [2 3]]\n",
      "sum of all element matrix 6\n",
      "sum of all element matrix along rowa [1 5]\n",
      "sum of all element matrix along column [2 4]\n"
     ]
    }
   ],
   "source": [
    "axis_operations_2d = np.array([[0,1],[2,3]])\n",
    "print(axis_operations_2d)\n",
    "print('sum of all element matrix',np.sum(axis_operations_2d))\n",
    "print('sum of all element matrix along rowa',np.sum(axis_operations_2d,axis=1))\n",
    "print('sum of all element matrix along column',np.sum(axis_operations_2d,axis=0))"
   ]
  },
  {
   "cell_type": "markdown",
   "metadata": {},
   "source": [
    "# numpy.sum() in Python\n",
    "\n",
    "numpy.sum(arr, axis, dtype, out) : This function returns the sum of array elements over the specified axis.\n",
    "\n",
    "    Parameters :\n",
    "    arr : input array.\n",
    "    axis : axis along which we want to calculate the sum value. Otherwise, it will consider arr to be flattened(works on all the axis). axis = 0 means along the column and axis = 1 means working along the row.\n",
    "    out : Different array in which we want to place the result. The array must have same dimensions as expected output. Default is None.\n",
    "    initial : [scalar, optional] Starting value of the sum.\n",
    "\n",
    "    Return : Sum of the array elements (a scalar value if axis is none) or array with sum values along the specified axis."
   ]
  },
  {
   "cell_type": "code",
   "execution_count": 64,
   "metadata": {},
   "outputs": [
    {
     "name": "stdout",
     "output_type": "stream",
     "text": [
      "min:  2\n",
      "max:  1222\n",
      "min axis=0 aliong column:  [4 2 3]\n",
      "min axis=1 along row:  [2 4]\n"
     ]
    }
   ],
   "source": [
    "# Min/max\n",
    "x = np.array([[1222,2,3], [4,5,6]])\n",
    "print (\"min: \", x.min())\n",
    "print (\"max: \", x.max())\n",
    "print (\"min axis=0 aliong column: \", x.min(axis=0))\n",
    "print (\"min axis=1 along row: \", x.min(axis=1))"
   ]
  },
  {
   "cell_type": "markdown",
   "metadata": {},
   "source": [
    "# Array Broadcasting in Numpy\n",
    "\n",
    "Let’s explore a more advanced concept in numpy called broadcasting. The term broadcasting describes how numpy treats arrays with different shapes during arithmetic operations. Subject to certain constraints, the smaller array is “broadcast” across the larger array so that they have compatible shapes. Broadcasting provides a means of vectorizing array operations so that looping occurs in C instead of Python. It does this without making needless copies of data and usually leads to efficient algorithm implementations. There are also cases where broadcasting is a bad idea because it leads to inefficient use of memory that slows computation. This article provides a gentle introduction to broadcasting with numerous examples ranging from simple to involved. It also provides hints on when and when not to use broadcasting.\n",
    "\n",
    "numpy operations are usually done element-by-element which requires two arrays to have exactly the same shape:"
   ]
  },
  {
   "cell_type": "code",
   "execution_count": 65,
   "metadata": {},
   "outputs": [
    {
     "name": "stdout",
     "output_type": "stream",
     "text": [
      "[  5  10 165]\n"
     ]
    }
   ],
   "source": [
    "broad = np.array([1,2,33])\n",
    "broad_a = 5\n",
    "print(broad * broad_a)"
   ]
  },
  {
   "cell_type": "code",
   "execution_count": null,
   "metadata": {},
   "outputs": [],
   "source": []
  }
 ],
 "metadata": {
  "kernelspec": {
   "display_name": "Python 3",
   "language": "python",
   "name": "python3"
  },
  "language_info": {
   "codemirror_mode": {
    "name": "ipython",
    "version": 3
   },
   "file_extension": ".py",
   "mimetype": "text/x-python",
   "name": "python",
   "nbconvert_exporter": "python",
   "pygments_lexer": "ipython3",
   "version": "3.6.9"
  }
 },
 "nbformat": 4,
 "nbformat_minor": 2
}
